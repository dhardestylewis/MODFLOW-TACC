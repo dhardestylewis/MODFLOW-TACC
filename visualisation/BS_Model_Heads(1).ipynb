{
 "cells": [
  {
   "cell_type": "markdown",
   "metadata": {},
   "source": [
    "# Visualize Barton Springs Model Head Values"
   ]
  },
  {
   "cell_type": "markdown",
   "metadata": {},
   "source": [
    "##### Import Packages"
   ]
  },
  {
   "cell_type": "code",
   "execution_count": null,
   "metadata": {},
   "outputs": [],
   "source": [
    "import matplotlib.pyplot as plt\n",
    "import flopy\n",
    "import numpy as np\n",
    "import os"
   ]
  },
  {
   "cell_type": "markdown",
   "metadata": {},
   "source": [
    "##### Create functions to read the Heads file and convert to appropriate units"
   ]
  },
  {
   "cell_type": "code",
   "execution_count": 2,
   "metadata": {},
   "outputs": [],
   "source": [
    "def get_head_obj(headfile,nlay,nrow,ncol):\n",
    "\n",
    "    hdsdt = np.dtype([('pad1', 'i4'),\n",
    "                ('kstp', 'i4'),\n",
    "                ('kper', 'i4'),\n",
    "                ('pertim', 'f4'),\n",
    "                ('totim', 'f4'),\n",
    "                ('text', 'S16'),\n",
    "                ('ncol', 'i4'),\n",
    "                ('nrow', 'i4'),\n",
    "                ('ilay', 'i4'),\n",
    "                ('pad3', 'i8'),\n",
    "                ('data', 'f4', \n",
    "                (nrow, ncol)),\n",
    "                ('pad4', 'i4')])\n",
    "    ofst = 0\n",
    "    fsize = os.path.getsize(headfile)\n",
    "    headobj = []\n",
    "    times = []\n",
    "    while ofst < fsize:\n",
    "        data = np.memmap(headfile, mode='r+', dtype=hdsdt, offset=ofst, shape=nlay)\n",
    "        \n",
    "        kper = data['kper'][0]\n",
    "        kstp = data['kstp'][0]\n",
    "        totim = data['totim'][0]\n",
    "        headobj.append(data['data'][:][:,:])\n",
    "        times.append(totim)\n",
    "        ofst += hdsdt.itemsize*nlay\n",
    "        \n",
    "    return np.array(headobj), times\n",
    "\n",
    "def cfd2afy(Qcfd):\n",
    "    return Qcfd * 0.00837926"
   ]
  },
  {
   "cell_type": "markdown",
   "metadata": {},
   "source": [
    "##### Load the heads file and read it in using the get_head_obj() function"
   ]
  },
  {
   "cell_type": "code",
   "execution_count": null,
   "metadata": {},
   "outputs": [],
   "source": [
    "hdfile = os.path.join('HEADS.DAT')\n",
    "nlay, nrow, ncol = 1, 120, 120\n",
    "hds, times = get_head_obj(hdfile,nlay, nrow, ncol)\n",
    "hds[hds<=-999] = np.nan"
   ]
  },
  {
   "cell_type": "markdown",
   "metadata": {},
   "source": [
    "##### Visualize the head levels"
   ]
  },
  {
   "cell_type": "code",
   "execution_count": null,
   "metadata": {},
   "outputs": [],
   "source": [
    "fig, ax = plt.subplots(figsize=(8,6))\n",
    "plt.imshow(hds[0][0], cmap='jet')\n",
    "plt.imshow(hds[0][0], cmap='jet'); plt.title(\"Barton Springs Head Levels\");\n",
    "plt.colorbar(); plt.savefig(\"Testing.png\", bbox_inches='tight')"
   ]
  }
 ],
 "metadata": {
  "kernelspec": {
   "display_name": "Python 3",
   "language": "python",
   "name": "python3"
  },
  "language_info": {
   "codemirror_mode": {
    "name": "ipython",
    "version": 3
   },
   "file_extension": ".py",
   "mimetype": "text/x-python",
   "name": "python",
   "nbconvert_exporter": "python",
   "pygments_lexer": "ipython3",
   "version": "3.6.9"
  }
 },
 "nbformat": 4,
 "nbformat_minor": 2
}
